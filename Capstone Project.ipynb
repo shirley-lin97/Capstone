{
    "cells": [
        {
            "cell_type": "markdown",
            "metadata": {
                "collapsed": true
            },
            "source": "# Capstone Project - - The Prediction of potential car collision severity"
        },
        {
            "cell_type": "markdown",
            "metadata": {},
            "source": "### QIN LIN"
        },
        {
            "cell_type": "markdown",
            "metadata": {},
            "source": "## Introduction: Business Problem"
        },
        {
            "cell_type": "markdown",
            "metadata": {},
            "source": "In this project we will find the optimal model to predict the severity of car accident based on its physical surroundings. The report is specially targeted to stakeholders interested in **giving more effective and accurate warnings to drivers on the road**.\n\nWe need to ensure the prediction generalized and can be **applied to different regions**, not only in Seattle where the data was recorded.\n\nSo we will look into the detailed geographic locations but focus more on the junction features or other general factors. "
        },
        {
            "cell_type": "markdown",
            "metadata": {},
            "source": "## Data"
        },
        {
            "cell_type": "code",
            "execution_count": 257,
            "metadata": {},
            "outputs": [],
            "source": "import itertools\nimport numpy as np\nimport matplotlib.pyplot as plt\nfrom matplotlib.ticker import NullFormatter\nimport pandas as pd\nimport numpy as np\nimport matplotlib.ticker as ticker\nfrom sklearn import preprocessing\n%matplotlib inline"
        },
        {
            "cell_type": "markdown",
            "metadata": {},
            "source": "Based on our understanding of the business problem, we select factors which may influence our model and prediction of severity (SEVERITYCODE).\n\n* The address type of car accident (ADDRTYPE)\n* The catetory of junction where accident takes place (JUNCTIONTYPE)\n* The weather condition (WEATHER)\n* The road condition (ROADCOND)\n* The light condition (LIGHTCOND)\n* Whether speeding involved (SPEEDING)\n\nLet's **load CSV file** from the link and do some **basic exploration**."
        },
        {
            "cell_type": "code",
            "execution_count": 258,
            "metadata": {},
            "outputs": [
                {
                    "name": "stderr",
                    "output_type": "stream",
                    "text": "/opt/conda/envs/Python36/lib/python3.6/site-packages/IPython/core/interactiveshell.py:3020: DtypeWarning: Columns (33) have mixed types. Specify dtype option on import or set low_memory=False.\n  interactivity=interactivity, compiler=compiler, result=result)\n"
                }
            ],
            "source": "import pandas as pd\ncc_df = pd.read_csv('https://s3.us.cloud-object-storage.appdomain.cloud/cf-courses-data/CognitiveClass/DP0701EN/version-2/Data-Collisions.csv')"
        },
        {
            "cell_type": "code",
            "execution_count": 259,
            "metadata": {},
            "outputs": [
                {
                    "data": {
                        "text/html": "<div>\n<style scoped>\n    .dataframe tbody tr th:only-of-type {\n        vertical-align: middle;\n    }\n\n    .dataframe tbody tr th {\n        vertical-align: top;\n    }\n\n    .dataframe thead th {\n        text-align: right;\n    }\n</style>\n<table border=\"1\" class=\"dataframe\">\n  <thead>\n    <tr style=\"text-align: right;\">\n      <th></th>\n      <th>SEVERITYCODE</th>\n      <th>X</th>\n      <th>Y</th>\n      <th>OBJECTID</th>\n      <th>INCKEY</th>\n      <th>COLDETKEY</th>\n      <th>REPORTNO</th>\n      <th>STATUS</th>\n      <th>ADDRTYPE</th>\n      <th>INTKEY</th>\n      <th>...</th>\n      <th>ROADCOND</th>\n      <th>LIGHTCOND</th>\n      <th>PEDROWNOTGRNT</th>\n      <th>SDOTCOLNUM</th>\n      <th>SPEEDING</th>\n      <th>ST_COLCODE</th>\n      <th>ST_COLDESC</th>\n      <th>SEGLANEKEY</th>\n      <th>CROSSWALKKEY</th>\n      <th>HITPARKEDCAR</th>\n    </tr>\n  </thead>\n  <tbody>\n    <tr>\n      <th>0</th>\n      <td>2</td>\n      <td>-122.323148</td>\n      <td>47.703140</td>\n      <td>1</td>\n      <td>1307</td>\n      <td>1307</td>\n      <td>3502005</td>\n      <td>Matched</td>\n      <td>Intersection</td>\n      <td>37475.0</td>\n      <td>...</td>\n      <td>Wet</td>\n      <td>Daylight</td>\n      <td>NaN</td>\n      <td>NaN</td>\n      <td>NaN</td>\n      <td>10</td>\n      <td>Entering at angle</td>\n      <td>0</td>\n      <td>0</td>\n      <td>N</td>\n    </tr>\n    <tr>\n      <th>1</th>\n      <td>1</td>\n      <td>-122.347294</td>\n      <td>47.647172</td>\n      <td>2</td>\n      <td>52200</td>\n      <td>52200</td>\n      <td>2607959</td>\n      <td>Matched</td>\n      <td>Block</td>\n      <td>NaN</td>\n      <td>...</td>\n      <td>Wet</td>\n      <td>Dark - Street Lights On</td>\n      <td>NaN</td>\n      <td>6354039.0</td>\n      <td>NaN</td>\n      <td>11</td>\n      <td>From same direction - both going straight - bo...</td>\n      <td>0</td>\n      <td>0</td>\n      <td>N</td>\n    </tr>\n    <tr>\n      <th>2</th>\n      <td>1</td>\n      <td>-122.334540</td>\n      <td>47.607871</td>\n      <td>3</td>\n      <td>26700</td>\n      <td>26700</td>\n      <td>1482393</td>\n      <td>Matched</td>\n      <td>Block</td>\n      <td>NaN</td>\n      <td>...</td>\n      <td>Dry</td>\n      <td>Daylight</td>\n      <td>NaN</td>\n      <td>4323031.0</td>\n      <td>NaN</td>\n      <td>32</td>\n      <td>One parked--one moving</td>\n      <td>0</td>\n      <td>0</td>\n      <td>N</td>\n    </tr>\n    <tr>\n      <th>3</th>\n      <td>1</td>\n      <td>-122.334803</td>\n      <td>47.604803</td>\n      <td>4</td>\n      <td>1144</td>\n      <td>1144</td>\n      <td>3503937</td>\n      <td>Matched</td>\n      <td>Block</td>\n      <td>NaN</td>\n      <td>...</td>\n      <td>Dry</td>\n      <td>Daylight</td>\n      <td>NaN</td>\n      <td>NaN</td>\n      <td>NaN</td>\n      <td>23</td>\n      <td>From same direction - all others</td>\n      <td>0</td>\n      <td>0</td>\n      <td>N</td>\n    </tr>\n    <tr>\n      <th>4</th>\n      <td>2</td>\n      <td>-122.306426</td>\n      <td>47.545739</td>\n      <td>5</td>\n      <td>17700</td>\n      <td>17700</td>\n      <td>1807429</td>\n      <td>Matched</td>\n      <td>Intersection</td>\n      <td>34387.0</td>\n      <td>...</td>\n      <td>Wet</td>\n      <td>Daylight</td>\n      <td>NaN</td>\n      <td>4028032.0</td>\n      <td>NaN</td>\n      <td>10</td>\n      <td>Entering at angle</td>\n      <td>0</td>\n      <td>0</td>\n      <td>N</td>\n    </tr>\n  </tbody>\n</table>\n<p>5 rows \u00d7 38 columns</p>\n</div>",
                        "text/plain": "   SEVERITYCODE           X          Y  OBJECTID  INCKEY  COLDETKEY REPORTNO  \\\n0             2 -122.323148  47.703140         1    1307       1307  3502005   \n1             1 -122.347294  47.647172         2   52200      52200  2607959   \n2             1 -122.334540  47.607871         3   26700      26700  1482393   \n3             1 -122.334803  47.604803         4    1144       1144  3503937   \n4             2 -122.306426  47.545739         5   17700      17700  1807429   \n\n    STATUS      ADDRTYPE   INTKEY  ... ROADCOND                LIGHTCOND  \\\n0  Matched  Intersection  37475.0  ...      Wet                 Daylight   \n1  Matched         Block      NaN  ...      Wet  Dark - Street Lights On   \n2  Matched         Block      NaN  ...      Dry                 Daylight   \n3  Matched         Block      NaN  ...      Dry                 Daylight   \n4  Matched  Intersection  34387.0  ...      Wet                 Daylight   \n\n  PEDROWNOTGRNT  SDOTCOLNUM SPEEDING ST_COLCODE  \\\n0           NaN         NaN      NaN         10   \n1           NaN   6354039.0      NaN         11   \n2           NaN   4323031.0      NaN         32   \n3           NaN         NaN      NaN         23   \n4           NaN   4028032.0      NaN         10   \n\n                                          ST_COLDESC  SEGLANEKEY  \\\n0                                  Entering at angle           0   \n1  From same direction - both going straight - bo...           0   \n2                             One parked--one moving           0   \n3                   From same direction - all others           0   \n4                                  Entering at angle           0   \n\n   CROSSWALKKEY  HITPARKEDCAR  \n0             0             N  \n1             0             N  \n2             0             N  \n3             0             N  \n4             0             N  \n\n[5 rows x 38 columns]"
                    },
                    "execution_count": 259,
                    "metadata": {},
                    "output_type": "execute_result"
                }
            ],
            "source": "cc_df.head()"
        },
        {
            "cell_type": "code",
            "execution_count": 260,
            "metadata": {},
            "outputs": [
                {
                    "data": {
                        "text/plain": "(194673, 38)"
                    },
                    "execution_count": 260,
                    "metadata": {},
                    "output_type": "execute_result"
                }
            ],
            "source": "cc_df.shape"
        },
        {
            "cell_type": "code",
            "execution_count": 261,
            "metadata": {},
            "outputs": [
                {
                    "data": {
                        "text/plain": "1    136485\n2     58188\nName: SEVERITYCODE, dtype: int64"
                    },
                    "execution_count": 261,
                    "metadata": {},
                    "output_type": "execute_result"
                }
            ],
            "source": "cc_df['SEVERITYCODE'].value_counts()"
        },
        {
            "cell_type": "markdown",
            "metadata": {},
            "source": "## Data visualization and pre-processing"
        },
        {
            "cell_type": "markdown",
            "metadata": {},
            "source": "### 1. The address type of car accident (ADDRTYPE)"
        },
        {
            "cell_type": "code",
            "execution_count": 262,
            "metadata": {},
            "outputs": [
                {
                    "data": {
                        "text/plain": "Block           126926\nIntersection     65070\nAlley              751\nName: ADDRTYPE, dtype: int64"
                    },
                    "execution_count": 262,
                    "metadata": {},
                    "output_type": "execute_result"
                }
            ],
            "source": "cc_df['ADDRTYPE'].value_counts()"
        },
        {
            "cell_type": "markdown",
            "metadata": {},
            "source": "126926 car accidents take place in the block, 65070 in the intersection and 751 in the alley"
        },
        {
            "cell_type": "code",
            "execution_count": 263,
            "metadata": {},
            "outputs": [
                {
                    "data": {
                        "image/png": "[encoded data removed]",
                        "text/plain": "<Figure size 372x288 with 1 Axes>"
                    },
                    "metadata": {
                        "needs_background": "light"
                    },
                    "output_type": "display_data"
                }
            ],
            "source": "import seaborn as sns\n\nsns.catplot(x=\"ADDRTYPE\", hue=\"SEVERITYCODE\",\n            data=cc_df, kind=\"count\",\n            height=4, aspect=1);\n"
        },
        {
            "cell_type": "markdown",
            "metadata": {},
            "source": "### 2. The catetory of junction where accident takes place (JUNCTIONTYPE)"
        },
        {
            "cell_type": "code",
            "execution_count": 264,
            "metadata": {},
            "outputs": [
                {
                    "data": {
                        "text/plain": "Mid-Block (not related to intersection)              89800\nAt Intersection (intersection related)               62810\nMid-Block (but intersection related)                 22790\nDriveway Junction                                    10671\nAt Intersection (but not related to intersection)     2098\nRamp Junction                                          166\nUnknown                                                  9\nName: JUNCTIONTYPE, dtype: int64"
                    },
                    "execution_count": 264,
                    "metadata": {},
                    "output_type": "execute_result"
                }
            ],
            "source": "cc_df['JUNCTIONTYPE'].value_counts()"
        },
        {
            "cell_type": "code",
            "execution_count": 265,
            "metadata": {},
            "outputs": [
                {
                    "data": {
                        "image/png": "[encoded data removed]",
                        "text/plain": "<Figure size 948x288 with 1 Axes>"
                    },
                    "metadata": {
                        "needs_background": "light"
                    },
                    "output_type": "display_data"
                }
            ],
            "source": "sns.catplot(y=\"JUNCTIONTYPE\", hue=\"SEVERITYCODE\",\n            data=cc_df, kind=\"count\",\n            height=4, aspect=3);"
        },
        {
            "cell_type": "markdown",
            "metadata": {},
            "source": "### Relationship between JUNCTIONTYPE and ADDRTYPE\n\nIt seems JUNCTIONTYPE is the sub-category of ADDRTYPE, so let's explore the relationship between them."
        },
        {
            "cell_type": "code",
            "execution_count": 266,
            "metadata": {},
            "outputs": [
                {
                    "data": {
                        "image/png": "[encoded data removed]",
                        "text/plain": "<Figure size 959.375x288 with 1 Axes>"
                    },
                    "metadata": {
                        "needs_background": "light"
                    },
                    "output_type": "display_data"
                }
            ],
            "source": "sns.catplot(y=\"JUNCTIONTYPE\", hue=\"ADDRTYPE\",\n            data=cc_df, kind=\"count\",\n            height=4, aspect=3);"
        },
        {
            "cell_type": "markdown",
            "metadata": {},
            "source": "JUNCTIONTYPE belong to one category of ADDRTYPE.So, we will **drop JUNCTIONTYPE** to simplify the model.\n\nThen encode ADDRTYPE as\n\n* Block = 0\n* Intersection = 1\n* Alley = 2"
        },
        {
            "cell_type": "code",
            "execution_count": 267,
            "metadata": {},
            "outputs": [
                {
                    "data": {
                        "text/plain": "0    Intersection\n1           Block\n2           Block\n3           Block\n4    Intersection\nName: ADDRTYPE, dtype: object"
                    },
                    "execution_count": 267,
                    "metadata": {},
                    "output_type": "execute_result"
                }
            ],
            "source": "cc_df['ADDRTYPE'].head()"
        },
        {
            "cell_type": "code",
            "execution_count": 268,
            "metadata": {},
            "outputs": [
                {
                    "data": {
                        "text/plain": "0    1.0\n1    0.0\n2    0.0\n3    0.0\n4    1.0\nName: ADDRTYPE, dtype: float64"
                    },
                    "execution_count": 268,
                    "metadata": {},
                    "output_type": "execute_result"
                }
            ],
            "source": "cc_df['ADDRTYPE'].replace({'Block': 0, 'Intersection': 1, 'Alley': 2}, inplace = True)\ncc_df['ADDRTYPE'].head()"
        },
        {
            "cell_type": "markdown",
            "metadata": {},
            "source": "### 3. The weather condition (WEATHER)"
        },
        {
            "cell_type": "code",
            "execution_count": 269,
            "metadata": {
                "scrolled": false
            },
            "outputs": [
                {
                    "data": {
                        "text/plain": "WEATHER                   SEVERITYCODE\nBlowing Sand/Dirt         1               0.732143\n                          2               0.267857\nClear                     1               0.677509\n                          2               0.322491\nFog/Smog/Smoke            1               0.671353\n                          2               0.328647\nOther                     1               0.860577\n                          2               0.139423\nOvercast                  1               0.684456\n                          2               0.315544\nPartly Cloudy             2               0.600000\n                          1               0.400000\nRaining                   1               0.662815\n                          2               0.337185\nSevere Crosswind          1               0.720000\n                          2               0.280000\nSleet/Hail/Freezing Rain  1               0.752212\n                          2               0.247788\nSnowing                   1               0.811466\n                          2               0.188534\nUnknown                   1               0.945928\n                          2               0.054072\nName: SEVERITYCODE, dtype: float64"
                    },
                    "execution_count": 269,
                    "metadata": {},
                    "output_type": "execute_result"
                }
            ],
            "source": "cc_df.groupby(['WEATHER'])['SEVERITYCODE'].value_counts(normalize=True)"
        },
        {
            "cell_type": "markdown",
            "metadata": {},
            "source": "There some similarity between weather, so we encode them as follows.\n\n* Clear = 0 \n* Overcast = 1; Partly Cloudy = 1\n* Fog/Smog/Smoke = 2; Blowing Sand/Dirt = 2; Severe Crosswind = 2\n* Raining = 3; Sleet/Hail/Freezing Rain = 3; Snowing = 3                   \n* Unknown = 999; Other = 999"
        },
        {
            "cell_type": "code",
            "execution_count": 270,
            "metadata": {},
            "outputs": [
                {
                    "data": {
                        "text/plain": "0    Overcast\n1     Raining\n2    Overcast\n3       Clear\n4     Raining\nName: WEATHER, dtype: object"
                    },
                    "execution_count": 270,
                    "metadata": {},
                    "output_type": "execute_result"
                }
            ],
            "source": "cc_df['WEATHER'].head()"
        },
        {
            "cell_type": "code",
            "execution_count": 271,
            "metadata": {
                "scrolled": true
            },
            "outputs": [
                {
                    "data": {
                        "text/plain": "0    1.0\n1    3.0\n2    1.0\n3    0.0\n4    3.0\nName: WEATHER, dtype: float64"
                    },
                    "execution_count": 271,
                    "metadata": {},
                    "output_type": "execute_result"
                }
            ],
            "source": "cc_df['WEATHER'].replace({'Clear': 0 , 'Overcast': 1, 'Partly Cloudy': 1, \n                          'Fog/Smog/Smoke': 2, 'Blowing Sand/Dirt': 2, 'Severe Crosswind': 2, \n                          'Raining': 3, 'Sleet/Hail/Freezing Rain': 3, 'Snowing': 3, \n                          'Unknown': 999, 'Other': 999}, inplace = True)\ncc_df['WEATHER'].head()"
        },
        {
            "cell_type": "markdown",
            "metadata": {},
            "source": "### 4. The road condition (ROADCOND)"
        },
        {
            "cell_type": "code",
            "execution_count": 272,
            "metadata": {
                "scrolled": true
            },
            "outputs": [
                {
                    "data": {
                        "text/plain": "ROADCOND        SEVERITYCODE\nDry             1               0.678227\n                2               0.321773\nIce             1               0.774194\n                2               0.225806\nOil             1               0.625000\n                2               0.375000\nOther           1               0.674242\n                2               0.325758\nSand/Mud/Dirt   1               0.693333\n                2               0.306667\nSnow/Slush      1               0.833665\n                2               0.166335\nStanding Water  1               0.739130\n                2               0.260870\nUnknown         1               0.950325\n                2               0.049675\nWet             1               0.668134\n                2               0.331866\nName: SEVERITYCODE, dtype: float64"
                    },
                    "execution_count": 272,
                    "metadata": {},
                    "output_type": "execute_result"
                }
            ],
            "source": "cc_df.groupby(['ROADCOND'])['SEVERITYCODE'].value_counts(normalize=True)"
        },
        {
            "cell_type": "code",
            "execution_count": 273,
            "metadata": {},
            "outputs": [
                {
                    "data": {
                        "text/plain": "0    Wet\n1    Wet\n2    Dry\n3    Dry\n4    Wet\nName: ROADCOND, dtype: object"
                    },
                    "execution_count": 273,
                    "metadata": {},
                    "output_type": "execute_result"
                }
            ],
            "source": "cc_df['ROADCOND'].head()"
        },
        {
            "cell_type": "markdown",
            "metadata": {},
            "source": "There some similarity between road conditions, so we encode them as follows.\n\n* Dry = 0\n* Sand/Mud/Dirt = 1; Standing Water = 1; Wet = 1\n* Oil = 2; Ice = 2; Snow/Slush = 2; \n* Unknown = 999; Other = 999"
        },
        {
            "cell_type": "code",
            "execution_count": 274,
            "metadata": {},
            "outputs": [
                {
                    "data": {
                        "text/plain": "0    1.0\n1    1.0\n2    0.0\n3    0.0\n4    1.0\nName: ROADCOND, dtype: float64"
                    },
                    "execution_count": 274,
                    "metadata": {},
                    "output_type": "execute_result"
                }
            ],
            "source": "cc_df['ROADCOND'].replace({'Dry': 0 , 'Sand/Mud/Dirt': 1, 'Standing Water': 1, 'Wet': 1, \n                           'Oil': 2, 'Ice': 2, 'Snow/Slush': 2, \n                           'Unknown': 999, 'Other': 999}, inplace = True)\ncc_df['ROADCOND'].head()"
        },
        {
            "cell_type": "markdown",
            "metadata": {},
            "source": "### 5. The light condition (LIGHTCOND)"
        },
        {
            "cell_type": "code",
            "execution_count": 275,
            "metadata": {},
            "outputs": [
                {
                    "data": {
                        "text/plain": "LIGHTCOND                 SEVERITYCODE\nDark - No Street Lights   1               0.782694\n                          2               0.217306\nDark - Street Lights Off  1               0.736447\n                          2               0.263553\nDark - Street Lights On   1               0.701589\n                          2               0.298411\nDark - Unknown Lighting   1               0.636364\n                          2               0.363636\nDawn                      1               0.670663\n                          2               0.329337\nDaylight                  1               0.668116\n                          2               0.331884\nDusk                      1               0.670620\n                          2               0.329380\nOther                     1               0.778723\n                          2               0.221277\nUnknown                   1               0.955095\n                          2               0.044905\nName: SEVERITYCODE, dtype: float64"
                    },
                    "execution_count": 275,
                    "metadata": {},
                    "output_type": "execute_result"
                }
            ],
            "source": "cc_df.groupby(['LIGHTCOND'])['SEVERITYCODE'].value_counts(normalize=True)"
        },
        {
            "cell_type": "code",
            "execution_count": 276,
            "metadata": {},
            "outputs": [
                {
                    "data": {
                        "text/plain": "0                   Daylight\n1    Dark - Street Lights On\n2                   Daylight\n3                   Daylight\n4                   Daylight\nName: LIGHTCOND, dtype: object"
                    },
                    "execution_count": 276,
                    "metadata": {},
                    "output_type": "execute_result"
                }
            ],
            "source": "cc_df['LIGHTCOND'].head()"
        },
        {
            "cell_type": "markdown",
            "metadata": {},
            "source": "There some similarity between light conditions, so we encode them as follows.\n\n* Daylight = 0                                    \n* Dusk = 1; Dawn = 1; Dark - Street Lights On = 1\n* Dark - No Street Lights = 2; Dark - Street Lights Off = 2\n* Unknown = 999; Other = 999, Dark - Unknown Lighting = 999"
        },
        {
            "cell_type": "code",
            "execution_count": 277,
            "metadata": {},
            "outputs": [
                {
                    "data": {
                        "text/plain": "0    0.0\n1    1.0\n2    0.0\n3    0.0\n4    0.0\nName: LIGHTCOND, dtype: float64"
                    },
                    "execution_count": 277,
                    "metadata": {},
                    "output_type": "execute_result"
                }
            ],
            "source": "cc_df['LIGHTCOND'].replace({'Daylight': 0 , 'Dusk': 1, 'Dawn': 1, 'Dark - Street Lights On': 1, \n                           'Dark - No Street Lights': 2, 'Dark - Street Lights Off': 2, \n                           'Unknown': 999, 'Other': 999, 'Dark - Unknown Lighting': 999}, inplace = True)\ncc_df['LIGHTCOND'].head()"
        },
        {
            "cell_type": "markdown",
            "metadata": {},
            "source": "### 6. Whether speeding involved (SPEEDING)"
        },
        {
            "cell_type": "code",
            "execution_count": 278,
            "metadata": {},
            "outputs": [
                {
                    "data": {
                        "text/plain": "Y    9333\nName: SPEEDING, dtype: int64"
                    },
                    "execution_count": 278,
                    "metadata": {},
                    "output_type": "execute_result"
                }
            ],
            "source": "cc_df['SPEEDING'].value_counts()"
        },
        {
            "cell_type": "markdown",
            "metadata": {},
            "source": "We assume nan value in SPEEDING means No speeding problems involved. let's replace nan with N."
        },
        {
            "cell_type": "code",
            "execution_count": 279,
            "metadata": {
                "scrolled": false
            },
            "outputs": [
                {
                    "data": {
                        "text/plain": "0    N\n1    N\n2    N\n3    N\n4    N\nName: SPEEDING, dtype: object"
                    },
                    "execution_count": 279,
                    "metadata": {},
                    "output_type": "execute_result"
                }
            ],
            "source": "# Replace nan with N\ncc_df['SPEEDING'] = cc_df['SPEEDING'].fillna('N')\ncc_df['SPEEDING'].head()"
        },
        {
            "cell_type": "code",
            "execution_count": 280,
            "metadata": {},
            "outputs": [
                {
                    "data": {
                        "text/plain": "0    0\n1    0\n2    0\n3    0\n4    0\nName: SPEEDING, dtype: int64"
                    },
                    "execution_count": 280,
                    "metadata": {},
                    "output_type": "execute_result"
                }
            ],
            "source": "cc_df['SPEEDING'].replace({'N': 0 , 'Y': 1}, inplace = True)\ncc_df['SPEEDING'].head()"
        },
        {
            "cell_type": "markdown",
            "metadata": {},
            "source": "# Feature Selection\n### Correlation"
        },
        {
            "cell_type": "code",
            "execution_count": 281,
            "metadata": {},
            "outputs": [
                {
                    "data": {
                        "text/html": "<div>\n<style scoped>\n    .dataframe tbody tr th:only-of-type {\n        vertical-align: middle;\n    }\n\n    .dataframe tbody tr th {\n        vertical-align: top;\n    }\n\n    .dataframe thead th {\n        text-align: right;\n    }\n</style>\n<table border=\"1\" class=\"dataframe\">\n  <thead>\n    <tr style=\"text-align: right;\">\n      <th></th>\n      <th>ADDRTYPE</th>\n      <th>WEATHER</th>\n      <th>ROADCOND</th>\n      <th>LIGHTCOND</th>\n      <th>SPEEDING</th>\n      <th>SEVERITYCODE</th>\n    </tr>\n  </thead>\n  <tbody>\n    <tr>\n      <th>ADDRTYPE</th>\n      <td>1.000000</td>\n      <td>0.037665</td>\n      <td>0.061234</td>\n      <td>0.078449</td>\n      <td>0.058618</td>\n      <td>0.172032</td>\n    </tr>\n    <tr>\n      <th>WEATHER</th>\n      <td>0.037665</td>\n      <td>1.000000</td>\n      <td>0.639360</td>\n      <td>0.339952</td>\n      <td>-0.056737</td>\n      <td>0.055049</td>\n    </tr>\n    <tr>\n      <th>ROADCOND</th>\n      <td>0.061234</td>\n      <td>0.639360</td>\n      <td>1.000000</td>\n      <td>0.370477</td>\n      <td>-0.052357</td>\n      <td>0.082918</td>\n    </tr>\n    <tr>\n      <th>LIGHTCOND</th>\n      <td>0.078449</td>\n      <td>0.339952</td>\n      <td>0.370477</td>\n      <td>1.000000</td>\n      <td>0.014951</td>\n      <td>0.128798</td>\n    </tr>\n    <tr>\n      <th>SPEEDING</th>\n      <td>0.058618</td>\n      <td>-0.056737</td>\n      <td>-0.052357</td>\n      <td>0.014951</td>\n      <td>1.000000</td>\n      <td>-0.038938</td>\n    </tr>\n    <tr>\n      <th>SEVERITYCODE</th>\n      <td>0.172032</td>\n      <td>0.055049</td>\n      <td>0.082918</td>\n      <td>0.128798</td>\n      <td>-0.038938</td>\n      <td>1.000000</td>\n    </tr>\n  </tbody>\n</table>\n</div>",
                        "text/plain": "              ADDRTYPE   WEATHER  ROADCOND  LIGHTCOND  SPEEDING  SEVERITYCODE\nADDRTYPE      1.000000  0.037665  0.061234   0.078449  0.058618      0.172032\nWEATHER       0.037665  1.000000  0.639360   0.339952 -0.056737      0.055049\nROADCOND      0.061234  0.639360  1.000000   0.370477 -0.052357      0.082918\nLIGHTCOND     0.078449  0.339952  0.370477   1.000000  0.014951      0.128798\nSPEEDING      0.058618 -0.056737 -0.052357   0.014951  1.000000     -0.038938\nSEVERITYCODE  0.172032  0.055049  0.082918   0.128798 -0.038938      1.000000"
                    },
                    "execution_count": 281,
                    "metadata": {},
                    "output_type": "execute_result"
                }
            ],
            "source": "# Compute correlation between variables and further drop those with low correlation\nfinal_df = cc_df[['ADDRTYPE', 'WEATHER', 'ROADCOND', 'LIGHTCOND', 'SPEEDING', 'SEVERITYCODE']]\nfinal_df.apply(lambda x : pd.factorize(x)[0]).corr(method='pearson', min_periods=1)"
        },
        {
            "cell_type": "markdown",
            "metadata": {},
            "source": "We drop the two variables with smallest correlations **WEATHER** (0.055) and **SPEEDING** (-0.0389)"
        },
        {
            "cell_type": "code",
            "execution_count": 294,
            "metadata": {},
            "outputs": [
                {
                    "data": {
                        "text/html": "<div>\n<style scoped>\n    .dataframe tbody tr th:only-of-type {\n        vertical-align: middle;\n    }\n\n    .dataframe tbody tr th {\n        vertical-align: top;\n    }\n\n    .dataframe thead th {\n        text-align: right;\n    }\n</style>\n<table border=\"1\" class=\"dataframe\">\n  <thead>\n    <tr style=\"text-align: right;\">\n      <th></th>\n      <th>ADDRTYPE</th>\n      <th>ROADCOND</th>\n      <th>LIGHTCOND</th>\n      <th>SEVERITYCODE</th>\n    </tr>\n  </thead>\n  <tbody>\n    <tr>\n      <th>39317</th>\n      <td>0.0</td>\n      <td>1.0</td>\n      <td>0.0</td>\n      <td>2</td>\n    </tr>\n    <tr>\n      <th>127463</th>\n      <td>0.0</td>\n      <td>0.0</td>\n      <td>0.0</td>\n      <td>2</td>\n    </tr>\n    <tr>\n      <th>48040</th>\n      <td>0.0</td>\n      <td>0.0</td>\n      <td>1.0</td>\n      <td>1</td>\n    </tr>\n    <tr>\n      <th>5526</th>\n      <td>0.0</td>\n      <td>0.0</td>\n      <td>0.0</td>\n      <td>1</td>\n    </tr>\n    <tr>\n      <th>159838</th>\n      <td>0.0</td>\n      <td>0.0</td>\n      <td>1.0</td>\n      <td>2</td>\n    </tr>\n  </tbody>\n</table>\n</div>",
                        "text/plain": "        ADDRTYPE  ROADCOND  LIGHTCOND  SEVERITYCODE\n39317        0.0       1.0        0.0             2\n127463       0.0       0.0        0.0             2\n48040        0.0       0.0        1.0             1\n5526         0.0       0.0        0.0             1\n159838       0.0       0.0        1.0             2"
                    },
                    "execution_count": 294,
                    "metadata": {},
                    "output_type": "execute_result"
                }
            ],
            "source": "# Complete feature selection\nfinal_df = cc_df[['ADDRTYPE', 'ROADCOND', 'LIGHTCOND', 'SEVERITYCODE']]\nfinal_df = final_df.dropna()\n\n# My system cannot handle the original number of data, it's too large, so choose to sample\nsample_df = final_df.sample(n=30000,replace = False, axis = 0) \nsample_df.head()"
        },
        {
            "cell_type": "code",
            "execution_count": 295,
            "metadata": {},
            "outputs": [
                {
                    "data": {
                        "text/html": "<div>\n<style scoped>\n    .dataframe tbody tr th:only-of-type {\n        vertical-align: middle;\n    }\n\n    .dataframe tbody tr th {\n        vertical-align: top;\n    }\n\n    .dataframe thead th {\n        text-align: right;\n    }\n</style>\n<table border=\"1\" class=\"dataframe\">\n  <thead>\n    <tr style=\"text-align: right;\">\n      <th></th>\n      <th>ADDRTYPE</th>\n      <th>ROADCOND</th>\n      <th>LIGHTCOND</th>\n    </tr>\n  </thead>\n  <tbody>\n    <tr>\n      <th>39317</th>\n      <td>0.0</td>\n      <td>1.0</td>\n      <td>0.0</td>\n    </tr>\n    <tr>\n      <th>127463</th>\n      <td>0.0</td>\n      <td>0.0</td>\n      <td>0.0</td>\n    </tr>\n    <tr>\n      <th>48040</th>\n      <td>0.0</td>\n      <td>0.0</td>\n      <td>1.0</td>\n    </tr>\n    <tr>\n      <th>5526</th>\n      <td>0.0</td>\n      <td>0.0</td>\n      <td>0.0</td>\n    </tr>\n    <tr>\n      <th>159838</th>\n      <td>0.0</td>\n      <td>0.0</td>\n      <td>1.0</td>\n    </tr>\n  </tbody>\n</table>\n</div>",
                        "text/plain": "        ADDRTYPE  ROADCOND  LIGHTCOND\n39317        0.0       1.0        0.0\n127463       0.0       0.0        0.0\n48040        0.0       0.0        1.0\n5526         0.0       0.0        0.0\n159838       0.0       0.0        1.0"
                    },
                    "execution_count": 295,
                    "metadata": {},
                    "output_type": "execute_result"
                }
            ],
            "source": "X = sample_df[['ADDRTYPE', 'ROADCOND', 'LIGHTCOND']]\nX.head()"
        },
        {
            "cell_type": "code",
            "execution_count": 296,
            "metadata": {},
            "outputs": [],
            "source": "y = sample_df[[ 'SEVERITYCODE']].values"
        },
        {
            "cell_type": "markdown",
            "metadata": {},
            "source": "## Normalize Data"
        },
        {
            "cell_type": "markdown",
            "metadata": {},
            "source": "Data Standardization give data zero mean and unit variance"
        },
        {
            "cell_type": "code",
            "execution_count": 297,
            "metadata": {},
            "outputs": [
                {
                    "data": {
                        "text/plain": "array([[-0.71622091, -0.28406232, -0.27419961],\n       [-0.71622091, -0.28784158, -0.27419961]])"
                    },
                    "execution_count": 297,
                    "metadata": {},
                    "output_type": "execute_result"
                }
            ],
            "source": "X= preprocessing.StandardScaler().fit(X).transform(X)\nX[0:2]"
        },
        {
            "cell_type": "markdown",
            "metadata": {},
            "source": "## Classification"
        },
        {
            "cell_type": "markdown",
            "metadata": {},
            "source": "In the report, we will use the training set to build an accurate model. Then use the test set to report the accuracy of the model.\n\nWe will use the following algorithm:\n    \n* K Nearest Neighbor(KNN)\n* Decision Tree\n* Support Vector Machine\n* Logistic Regression"
        },
        {
            "cell_type": "markdown",
            "metadata": {},
            "source": "## K Nearest Neighbor(KNN)"
        },
        {
            "cell_type": "code",
            "execution_count": 298,
            "metadata": {},
            "outputs": [],
            "source": "# 30% test data, 70% train data\nfrom sklearn.model_selection import train_test_split\nX_train, X_test, y_train, y_test = train_test_split( X, y, test_size=0.3, random_state=4)"
        },
        {
            "cell_type": "code",
            "execution_count": 299,
            "metadata": {},
            "outputs": [
                {
                    "name": "stderr",
                    "output_type": "stream",
                    "text": "/opt/conda/envs/Python36/lib/python3.6/site-packages/ipykernel/__main__.py:9: DataConversionWarning: A column-vector y was passed when a 1d array was expected. Please change the shape of y to (n_samples, ), for example using ravel().\n/opt/conda/envs/Python36/lib/python3.6/site-packages/ipykernel/__main__.py:9: DataConversionWarning: A column-vector y was passed when a 1d array was expected. Please change the shape of y to (n_samples, ), for example using ravel().\n/opt/conda/envs/Python36/lib/python3.6/site-packages/ipykernel/__main__.py:9: DataConversionWarning: A column-vector y was passed when a 1d array was expected. Please change the shape of y to (n_samples, ), for example using ravel().\n/opt/conda/envs/Python36/lib/python3.6/site-packages/ipykernel/__main__.py:9: DataConversionWarning: A column-vector y was passed when a 1d array was expected. Please change the shape of y to (n_samples, ), for example using ravel().\n/opt/conda/envs/Python36/lib/python3.6/site-packages/ipykernel/__main__.py:9: DataConversionWarning: A column-vector y was passed when a 1d array was expected. Please change the shape of y to (n_samples, ), for example using ravel().\n/opt/conda/envs/Python36/lib/python3.6/site-packages/ipykernel/__main__.py:9: DataConversionWarning: A column-vector y was passed when a 1d array was expected. Please change the shape of y to (n_samples, ), for example using ravel().\n/opt/conda/envs/Python36/lib/python3.6/site-packages/ipykernel/__main__.py:9: DataConversionWarning: A column-vector y was passed when a 1d array was expected. Please change the shape of y to (n_samples, ), for example using ravel().\n/opt/conda/envs/Python36/lib/python3.6/site-packages/ipykernel/__main__.py:9: DataConversionWarning: A column-vector y was passed when a 1d array was expected. Please change the shape of y to (n_samples, ), for example using ravel().\n/opt/conda/envs/Python36/lib/python3.6/site-packages/ipykernel/__main__.py:9: DataConversionWarning: A column-vector y was passed when a 1d array was expected. Please change the shape of y to (n_samples, ), for example using ravel().\n/opt/conda/envs/Python36/lib/python3.6/site-packages/ipykernel/__main__.py:9: DataConversionWarning: A column-vector y was passed when a 1d array was expected. Please change the shape of y to (n_samples, ), for example using ravel().\n/opt/conda/envs/Python36/lib/python3.6/site-packages/ipykernel/__main__.py:9: DataConversionWarning: A column-vector y was passed when a 1d array was expected. Please change the shape of y to (n_samples, ), for example using ravel().\n/opt/conda/envs/Python36/lib/python3.6/site-packages/ipykernel/__main__.py:9: DataConversionWarning: A column-vector y was passed when a 1d array was expected. Please change the shape of y to (n_samples, ), for example using ravel().\n/opt/conda/envs/Python36/lib/python3.6/site-packages/ipykernel/__main__.py:9: DataConversionWarning: A column-vector y was passed when a 1d array was expected. Please change the shape of y to (n_samples, ), for example using ravel().\n/opt/conda/envs/Python36/lib/python3.6/site-packages/ipykernel/__main__.py:9: DataConversionWarning: A column-vector y was passed when a 1d array was expected. Please change the shape of y to (n_samples, ), for example using ravel().\n"
                },
                {
                    "data": {
                        "image/png": "[encoded data removed]",
                        "text/plain": "<Figure size 432x288 with 1 Axes>"
                    },
                    "metadata": {
                        "needs_background": "light"
                    },
                    "output_type": "display_data"
                }
            ],
            "source": "# Find k with the highest F1 score\n# Use F1 score to find best k due to imbalanced data\nfrom sklearn.neighbors import KNeighborsClassifier\nfrom sklearn import metrics\nKs = 15\nmean_acc = np.zeros((Ks-1))\nstd_acc = np.zeros((Ks-1))\nfor n in range(1,Ks):\n    neigh = KNeighborsClassifier(n_neighbors = n).fit(X_train,y_train)\n    yhat=neigh.predict(X_test)\n    mean_acc[n-1] = metrics.f1_score(y_test, yhat)\n    std_acc[n-1]=np.std(yhat==y_test)/np.sqrt(yhat.shape[0])\n\n# plot accuracy of each k\nplt.plot(range(1,Ks),mean_acc,'g')\nplt.fill_between(range(1,Ks),mean_acc - 1 * std_acc,mean_acc + 1 * std_acc, alpha=0.10)\nplt.legend(('F1 Score', '+/- 3xstd'))\nplt.ylabel('F1 Score')\nplt.xlabel('Number of Nabors (K)')\nplt.tight_layout()\nplt.show()"
        },
        {
            "cell_type": "code",
            "execution_count": 300,
            "metadata": {},
            "outputs": [
                {
                    "name": "stdout",
                    "output_type": "stream",
                    "text": "The best f1 score is with 0.7812177502579979 with k= 4\n"
                },
                {
                    "name": "stderr",
                    "output_type": "stream",
                    "text": "/opt/conda/envs/Python36/lib/python3.6/site-packages/ipykernel/__main__.py:4: DataConversionWarning: A column-vector y was passed when a 1d array was expected. Please change the shape of y to (n_samples, ), for example using ravel().\n"
                },
                {
                    "name": "stdout",
                    "output_type": "stream",
                    "text": "[[5299  840]\n [2128  733]]\n              precision    recall  f1-score   support\n\n           1       0.71      0.86      0.78      6139\n           2       0.47      0.26      0.33      2861\n\n   micro avg       0.67      0.67      0.67      9000\n   macro avg       0.59      0.56      0.56      9000\nweighted avg       0.63      0.67      0.64      9000\n\n"
                }
            ],
            "source": "# Evaluation of K Nearest Neighbor with the best accuracy\nprint( \"The best f1 score is with\", mean_acc.max(), \"with k=\", mean_acc.argmax()+1) \nfrom sklearn.metrics import classification_report, confusion_matrix\nneigh = KNeighborsClassifier(n_neighbors = mean_acc.argmax()+1).fit(X_train,y_train)\nknn_yhat=neigh.predict(X_test)\nprint(confusion_matrix(y_test, knn_yhat))\nprint(classification_report(y_test, knn_yhat))"
        },
        {
            "cell_type": "markdown",
            "metadata": {},
            "source": "## Decision Tree"
        },
        {
            "cell_type": "code",
            "execution_count": 301,
            "metadata": {},
            "outputs": [],
            "source": "# 30% test data, 70% train data\nfrom sklearn.model_selection import train_test_split\nX_train, X_test, y_train, y_test = train_test_split( X, y, test_size=0.3, random_state=4)"
        },
        {
            "cell_type": "code",
            "execution_count": 302,
            "metadata": {},
            "outputs": [
                {
                    "data": {
                        "image/png": "[encoded data removed]",
                        "text/plain": "<Figure size 432x288 with 1 Axes>"
                    },
                    "metadata": {
                        "needs_background": "light"
                    },
                    "output_type": "display_data"
                }
            ],
            "source": "# Find depth of DecisionTree with the highest F1 score\n# Use F1 score to find best depth due to imbalanced data, we want to detect 'Collection' i.e. 1\nfrom sklearn.tree import DecisionTreeClassifier\nfrom sklearn import metrics\ndepth = 15\nmean_acc = np.zeros((depth-1))\nstd_acc = np.zeros((depth-1))\nfor n in range(1,depth):\n    loanTree = DecisionTreeClassifier(criterion=\"entropy\", max_depth = n).fit(X_train,y_train)\n    tree_yhat = loanTree.predict(X_test)\n    mean_acc[n-1] = metrics.f1_score(y_test, tree_yhat)\n    std_acc[n-1]=np.std(tree_yhat==y_test)/np.sqrt(tree_yhat.shape[0])\n\n# plot accuracy of each depth\nplt.plot(range(1,depth),mean_acc,'g')\nplt.fill_between(range(1,depth),mean_acc - 1 * std_acc,mean_acc + 1 * std_acc, alpha=0.10)\nplt.legend(('F1 Score', '+/- 3xstd'))\nplt.ylabel('F1 Score')\nplt.xlabel('Number of Depth')\nplt.tight_layout()\nplt.show()"
        },
        {
            "cell_type": "code",
            "execution_count": 303,
            "metadata": {},
            "outputs": [
                {
                    "name": "stdout",
                    "output_type": "stream",
                    "text": "The best f1 score is with 0.8110179007860493 with depth= 1\n[[6139    0]\n [2861    0]]\n              precision    recall  f1-score   support\n\n           1       0.68      1.00      0.81      6139\n           2       0.00      0.00      0.00      2861\n\n   micro avg       0.68      0.68      0.68      9000\n   macro avg       0.34      0.50      0.41      9000\nweighted avg       0.47      0.68      0.55      9000\n\n"
                },
                {
                    "name": "stderr",
                    "output_type": "stream",
                    "text": "/opt/conda/envs/Python36/lib/python3.6/site-packages/sklearn/metrics/classification.py:1143: UndefinedMetricWarning: Precision and F-score are ill-defined and being set to 0.0 in labels with no predicted samples.\n  'precision', 'predicted', average, warn_for)\n/opt/conda/envs/Python36/lib/python3.6/site-packages/sklearn/metrics/classification.py:1143: UndefinedMetricWarning: Precision and F-score are ill-defined and being set to 0.0 in labels with no predicted samples.\n  'precision', 'predicted', average, warn_for)\n/opt/conda/envs/Python36/lib/python3.6/site-packages/sklearn/metrics/classification.py:1143: UndefinedMetricWarning: Precision and F-score are ill-defined and being set to 0.0 in labels with no predicted samples.\n  'precision', 'predicted', average, warn_for)\n"
                }
            ],
            "source": "# Evaluation of decision tree with depth \nprint( \"The best f1 score is with\", mean_acc.max(), \"with depth=\", mean_acc.argmax()+1)\nfrom sklearn.metrics import classification_report, confusion_matrix\nloanTree = DecisionTreeClassifier(criterion=\"entropy\", max_depth = mean_acc.argmax()+1).fit(X_train,y_train)\ntree_yhat = loanTree.predict(X_test)\nprint(confusion_matrix(y_test, tree_yhat))\nprint(classification_report(y_test, tree_yhat))"
        },
        {
            "cell_type": "markdown",
            "metadata": {},
            "source": "## Support Vector Machine"
        },
        {
            "cell_type": "code",
            "execution_count": 304,
            "metadata": {},
            "outputs": [],
            "source": "# 30% test data, 70% train data\nfrom sklearn.model_selection import train_test_split\nX_train, X_test, y_train, y_test = train_test_split( X, y, test_size=0.3, random_state=4)"
        },
        {
            "cell_type": "code",
            "execution_count": 305,
            "metadata": {},
            "outputs": [
                {
                    "name": "stderr",
                    "output_type": "stream",
                    "text": "/opt/conda/envs/Python36/lib/python3.6/site-packages/sklearn/utils/validation.py:761: DataConversionWarning: A column-vector y was passed when a 1d array was expected. Please change the shape of y to (n_samples, ), for example using ravel().\n  y = column_or_1d(y, warn=True)\n/opt/conda/envs/Python36/lib/python3.6/site-packages/sklearn/svm/base.py:196: FutureWarning: The default value of gamma will change from 'auto' to 'scale' in version 0.22 to account better for unscaled features. Set gamma explicitly to 'auto' or 'scale' to avoid this warning.\n  \"avoid this warning.\", FutureWarning)\n"
                },
                {
                    "name": "stdout",
                    "output_type": "stream",
                    "text": "Accuracy of 'rbf' is:  0.6821111111111111\n"
                },
                {
                    "name": "stderr",
                    "output_type": "stream",
                    "text": "/opt/conda/envs/Python36/lib/python3.6/site-packages/sklearn/utils/validation.py:761: DataConversionWarning: A column-vector y was passed when a 1d array was expected. Please change the shape of y to (n_samples, ), for example using ravel().\n  y = column_or_1d(y, warn=True)\n/opt/conda/envs/Python36/lib/python3.6/site-packages/sklearn/svm/base.py:196: FutureWarning: The default value of gamma will change from 'auto' to 'scale' in version 0.22 to account better for unscaled features. Set gamma explicitly to 'auto' or 'scale' to avoid this warning.\n  \"avoid this warning.\", FutureWarning)\n"
                },
                {
                    "name": "stdout",
                    "output_type": "stream",
                    "text": "Accuracy of 'poly' is:  0.682\n"
                },
                {
                    "name": "stderr",
                    "output_type": "stream",
                    "text": "/opt/conda/envs/Python36/lib/python3.6/site-packages/sklearn/utils/validation.py:761: DataConversionWarning: A column-vector y was passed when a 1d array was expected. Please change the shape of y to (n_samples, ), for example using ravel().\n  y = column_or_1d(y, warn=True)\n/opt/conda/envs/Python36/lib/python3.6/site-packages/sklearn/svm/base.py:196: FutureWarning: The default value of gamma will change from 'auto' to 'scale' in version 0.22 to account better for unscaled features. Set gamma explicitly to 'auto' or 'scale' to avoid this warning.\n  \"avoid this warning.\", FutureWarning)\n"
                },
                {
                    "name": "stdout",
                    "output_type": "stream",
                    "text": "Accuracy of 'sigmoid' is:  0.6798888888888889\n"
                },
                {
                    "name": "stderr",
                    "output_type": "stream",
                    "text": "/opt/conda/envs/Python36/lib/python3.6/site-packages/sklearn/utils/validation.py:761: DataConversionWarning: A column-vector y was passed when a 1d array was expected. Please change the shape of y to (n_samples, ), for example using ravel().\n  y = column_or_1d(y, warn=True)\n"
                },
                {
                    "name": "stdout",
                    "output_type": "stream",
                    "text": "Accuracy of 'linear' is:  0.6821111111111111\n"
                }
            ],
            "source": "# try different types of kernel\nfrom sklearn import svm\nfrom sklearn import metrics\n# Radial basis function\nrbf_svm = svm.SVC(kernel='rbf')\nrbf_svm.fit(X_train, y_train)\nrbf_yhat = rbf_svm.predict(X_test)\nprint(\"Accuracy of 'rbf' is: \", metrics.accuracy_score(y_test, rbf_yhat))\n# Polynomial\npoly_svm = svm.SVC(kernel='poly', degree=8)\npoly_svm.fit(X_train, y_train)\npoly_yhat = poly_svm.predict(X_test)\nprint(\"Accuracy of 'poly' is: \", metrics.accuracy_score(y_test, poly_yhat))\n# Sigmoid\nsig_svm = svm.SVC(kernel='sigmoid')\nsig_svm.fit(X_train, y_train)\nsig_yhat = sig_svm.predict(X_test)\nprint(\"Accuracy of 'sigmoid' is: \", metrics.accuracy_score(y_test, sig_yhat))\n# Linear\nlin_svm = svm.SVC(kernel='linear')\nlin_svm.fit(X_train, y_train)\nlin_yhat = lin_svm.predict(X_test)\nprint(\"Accuracy of 'linear' is: \", metrics.accuracy_score(y_test, lin_yhat))"
        },
        {
            "cell_type": "code",
            "execution_count": 306,
            "metadata": {},
            "outputs": [
                {
                    "name": "stdout",
                    "output_type": "stream",
                    "text": "[[6139    0]\n [2861    0]]\n              precision    recall  f1-score   support\n\n           1       0.68      1.00      0.81      6139\n           2       0.00      0.00      0.00      2861\n\n   micro avg       0.68      0.68      0.68      9000\n   macro avg       0.34      0.50      0.41      9000\nweighted avg       0.47      0.68      0.55      9000\n\n"
                },
                {
                    "name": "stderr",
                    "output_type": "stream",
                    "text": "/opt/conda/envs/Python36/lib/python3.6/site-packages/sklearn/metrics/classification.py:1143: UndefinedMetricWarning: Precision and F-score are ill-defined and being set to 0.0 in labels with no predicted samples.\n  'precision', 'predicted', average, warn_for)\n/opt/conda/envs/Python36/lib/python3.6/site-packages/sklearn/metrics/classification.py:1143: UndefinedMetricWarning: Precision and F-score are ill-defined and being set to 0.0 in labels with no predicted samples.\n  'precision', 'predicted', average, warn_for)\n/opt/conda/envs/Python36/lib/python3.6/site-packages/sklearn/metrics/classification.py:1143: UndefinedMetricWarning: Precision and F-score are ill-defined and being set to 0.0 in labels with no predicted samples.\n  'precision', 'predicted', average, warn_for)\n"
                }
            ],
            "source": "# Evaluation of rbf kernel with the best accuracy\nfrom sklearn.metrics import classification_report, confusion_matrix\nprint(confusion_matrix(y_test, rbf_yhat))\nprint(classification_report(y_test, rbf_yhat))"
        },
        {
            "cell_type": "markdown",
            "metadata": {},
            "source": "## Logistic Regression"
        },
        {
            "cell_type": "code",
            "execution_count": 307,
            "metadata": {},
            "outputs": [],
            "source": "## 30% test data, 70% train data\nfrom sklearn.model_selection import train_test_split\nX_train, X_test, y_train, y_test = train_test_split( X, y, test_size=0.3, random_state=4)"
        },
        {
            "cell_type": "code",
            "execution_count": 308,
            "metadata": {},
            "outputs": [
                {
                    "name": "stdout",
                    "output_type": "stream",
                    "text": "Accuracy of 'sag' is:  0.6798888888888889\n"
                },
                {
                    "name": "stderr",
                    "output_type": "stream",
                    "text": "/opt/conda/envs/Python36/lib/python3.6/site-packages/sklearn/utils/validation.py:761: DataConversionWarning: A column-vector y was passed when a 1d array was expected. Please change the shape of y to (n_samples, ), for example using ravel().\n  y = column_or_1d(y, warn=True)\n/opt/conda/envs/Python36/lib/python3.6/site-packages/sklearn/utils/validation.py:761: DataConversionWarning: A column-vector y was passed when a 1d array was expected. Please change the shape of y to (n_samples, ), for example using ravel().\n  y = column_or_1d(y, warn=True)\n/opt/conda/envs/Python36/lib/python3.6/site-packages/sklearn/utils/validation.py:761: DataConversionWarning: A column-vector y was passed when a 1d array was expected. Please change the shape of y to (n_samples, ), for example using ravel().\n  y = column_or_1d(y, warn=True)\n"
                },
                {
                    "name": "stdout",
                    "output_type": "stream",
                    "text": "Accuracy of 'newton-cg' is:  0.6798888888888889\nAccuracy of 'lbfgs' is:  0.6798888888888889\nAccuracy of 'liblinear' is:  0.6798888888888889\nAccuracy of 'saga' is:  0.6798888888888889\n"
                },
                {
                    "name": "stderr",
                    "output_type": "stream",
                    "text": "/opt/conda/envs/Python36/lib/python3.6/site-packages/sklearn/utils/validation.py:761: DataConversionWarning: A column-vector y was passed when a 1d array was expected. Please change the shape of y to (n_samples, ), for example using ravel().\n  y = column_or_1d(y, warn=True)\n/opt/conda/envs/Python36/lib/python3.6/site-packages/sklearn/utils/validation.py:761: DataConversionWarning: A column-vector y was passed when a 1d array was expected. Please change the shape of y to (n_samples, ), for example using ravel().\n  y = column_or_1d(y, warn=True)\n"
                }
            ],
            "source": "# try different solvers of Logistic Regression\nfrom sklearn.linear_model import LogisticRegression\nfrom sklearn import metrics\n# sag\nsag = LogisticRegression(C=0.01, solver='sag').fit(X_train, y_train)\nsag_yhat = sag.predict(X_test)\nprint(\"Accuracy of 'sag' is: \", metrics.accuracy_score(y_test, sag_yhat))\n# newton-cg\nnt = LogisticRegression(C=0.01, solver='newton-cg').fit(X_train, y_train)\nnt_yhat = nt.predict(X_test)\nprint(\"Accuracy of 'newton-cg' is: \", metrics.accuracy_score(y_test, nt_yhat))\n# lbfgs\nlb = LogisticRegression(C=0.01, solver='lbfgs').fit(X_train, y_train)\nlb_yhat = lb.predict(X_test)\nprint(\"Accuracy of 'lbfgs' is: \", metrics.accuracy_score(y_test, lb_yhat))\n# liblinear\nlib = LogisticRegression(C=0.01, solver='liblinear').fit(X_train, y_train)\nlib_yhat = lib.predict(X_test)\nprint(\"Accuracy of 'liblinear' is: \", metrics.accuracy_score(y_test, lib_yhat))\n# saga\nsaga = LogisticRegression(C=0.01, solver='saga').fit(X_train, y_train)\nsaga_yhat = saga.predict(X_test)\nprint(\"Accuracy of 'saga' is: \", metrics.accuracy_score(y_test, saga_yhat))"
        },
        {
            "cell_type": "code",
            "execution_count": 309,
            "metadata": {},
            "outputs": [
                {
                    "name": "stdout",
                    "output_type": "stream",
                    "text": "[[6118   21]\n [2860    1]]\n              precision    recall  f1-score   support\n\n           1       0.68      1.00      0.81      6139\n           2       0.05      0.00      0.00      2861\n\n   micro avg       0.68      0.68      0.68      9000\n   macro avg       0.36      0.50      0.41      9000\nweighted avg       0.48      0.68      0.55      9000\n\n"
                }
            ],
            "source": "# Evaluation of Logistic Regression model\nfrom sklearn.metrics import classification_report, confusion_matrix\nprint(confusion_matrix(y_test, sag_yhat))\nprint(classification_report(y_test, sag_yhat))"
        },
        {
            "cell_type": "markdown",
            "metadata": {},
            "source": "# Report"
        },
        {
            "cell_type": "code",
            "execution_count": 310,
            "metadata": {},
            "outputs": [],
            "source": "from sklearn.metrics import jaccard_similarity_score\nfrom sklearn.metrics import f1_score"
        },
        {
            "cell_type": "code",
            "execution_count": 311,
            "metadata": {},
            "outputs": [],
            "source": "# KNN\nknn_jaccard = jaccard_similarity_score(y_test, knn_yhat)\nknn_f1_score = f1_score(y_test, knn_yhat)\n\n# DecisionTree\ndt_jaccard = jaccard_similarity_score(y_test, tree_yhat)\ndt_f1_score = f1_score(y_test, tree_yhat)\n\n# SVM\nsvm_jaccard = jaccard_similarity_score(y_test, rbf_yhat)\nsvm_f1_score = f1_score(y_test, rbf_yhat)\n\n# LogisticRegression\nlr_jaccard = jaccard_similarity_score(y_test, sag_yhat)\nlr_f1_score = f1_score(y_test, sag_yhat)"
        },
        {
            "cell_type": "code",
            "execution_count": 312,
            "metadata": {
                "scrolled": true
            },
            "outputs": [
                {
                    "data": {
                        "text/html": "<style  type=\"text/css\" >\n</style><table id=\"T_d07e93c6_0e29_11eb_8b01_e92c00a48e33\" ><thead>    <tr>        <th class=\"col_heading level0 col0\" >Algorithm</th>        <th class=\"col_heading level0 col1\" >Jaccard</th>        <th class=\"col_heading level0 col2\" >F1-score</th>    </tr></thead><tbody>\n                <tr>\n                                <td id=\"T_d07e93c6_0e29_11eb_8b01_e92c00a48e33row0_col0\" class=\"data row0 col0\" >KNN</td>\n                        <td id=\"T_d07e93c6_0e29_11eb_8b01_e92c00a48e33row0_col1\" class=\"data row0 col1\" >0.670222</td>\n                        <td id=\"T_d07e93c6_0e29_11eb_8b01_e92c00a48e33row0_col2\" class=\"data row0 col2\" >0.781218</td>\n            </tr>\n            <tr>\n                                <td id=\"T_d07e93c6_0e29_11eb_8b01_e92c00a48e33row1_col0\" class=\"data row1 col0\" >Decision Tree</td>\n                        <td id=\"T_d07e93c6_0e29_11eb_8b01_e92c00a48e33row1_col1\" class=\"data row1 col1\" >0.682111</td>\n                        <td id=\"T_d07e93c6_0e29_11eb_8b01_e92c00a48e33row1_col2\" class=\"data row1 col2\" >0.811018</td>\n            </tr>\n            <tr>\n                                <td id=\"T_d07e93c6_0e29_11eb_8b01_e92c00a48e33row2_col0\" class=\"data row2 col0\" >SVM</td>\n                        <td id=\"T_d07e93c6_0e29_11eb_8b01_e92c00a48e33row2_col1\" class=\"data row2 col1\" >0.682111</td>\n                        <td id=\"T_d07e93c6_0e29_11eb_8b01_e92c00a48e33row2_col2\" class=\"data row2 col2\" >0.811018</td>\n            </tr>\n            <tr>\n                                <td id=\"T_d07e93c6_0e29_11eb_8b01_e92c00a48e33row3_col0\" class=\"data row3 col0\" >LogisticRegression</td>\n                        <td id=\"T_d07e93c6_0e29_11eb_8b01_e92c00a48e33row3_col1\" class=\"data row3 col1\" >0.679889</td>\n                        <td id=\"T_d07e93c6_0e29_11eb_8b01_e92c00a48e33row3_col2\" class=\"data row3 col2\" >0.80942</td>\n            </tr>\n    </tbody></table>",
                        "text/plain": "<pandas.io.formats.style.Styler at 0x7fcc7cf28358>"
                    },
                    "execution_count": 312,
                    "metadata": {},
                    "output_type": "execute_result"
                }
            ],
            "source": "report = {'Algorithm': ['KNN', 'Decision Tree', 'SVM', 'LogisticRegression'], 'Jaccard': [knn_jaccard, dt_jaccard, svm_jaccard, lr_jaccard],\n          'F1-score': [knn_f1_score, dt_f1_score, svm_f1_score, lr_f1_score]}\ndf_report = pd.DataFrame(data=report)\ndf_report = df_report.style.hide_index()\ndf_report"
        }
    ],
    "metadata": {
        "kernelspec": {
            "display_name": "Python 3.6",
            "language": "python",
            "name": "python3"
        },
        "language_info": {
            "codemirror_mode": {
                "name": "ipython",
                "version": 3
            },
            "file_extension": ".py",
            "mimetype": "text/x-python",
            "name": "python",
            "nbconvert_exporter": "python",
            "pygments_lexer": "ipython3",
            "version": "3.6.9"
        }
    },
    "nbformat": 4,
    "nbformat_minor": 1
}